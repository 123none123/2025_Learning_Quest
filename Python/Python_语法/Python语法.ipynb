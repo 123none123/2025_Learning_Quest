{
 "cells": [
  {
   "cell_type": "markdown",
   "metadata": {},
   "source": []
  },
  {
   "cell_type": "markdown",
   "metadata": {},
   "source": [
    "## 10. 面向对象编程\n",
    "\n",
    "  ### 类和实例\n",
    "        \n",
    "   #### 1. 类的定义：\n",
    "   \n",
    "      class 类名(继承类)\n",
    "      继承类默认为object"
   ]
  },
  {
   "cell_type": "code",
   "execution_count": 1,
   "metadata": {},
   "outputs": [
    {
     "name": "stdout",
     "output_type": "stream",
     "text": [
      "<__main__.Student object at 0x00000211B1D80208>\n"
     ]
    }
   ],
   "source": [
    "class Student(object):\n",
    "    pass"
   ]
  },
  {
   "cell_type": "markdown",
   "metadata": {},
   "source": [
    "   #### 2. 创建类的实例：\n",
    "   \n",
    "       类名+()"
   ]
  },
  {
   "cell_type": "code",
   "execution_count": null,
   "metadata": {},
   "outputs": [],
   "source": [
    "stu = Student()"
   ]
  },
  {
   "cell_type": "markdown",
   "metadata": {},
   "source": [
    "    可以自由给实例绑定属性"
   ]
  },
  {
   "cell_type": "code",
   "execution_count": 2,
   "metadata": {},
   "outputs": [
    {
     "name": "stdout",
     "output_type": "stream",
     "text": [
      "ljx\n"
     ]
    }
   ],
   "source": [
    "stu.name = 'ljx'\n",
    "print(stu.name)"
   ]
  },
  {
   "cell_type": "code",
   "execution_count": 2,
   "metadata": {
    "scrolled": true
   },
   "outputs": [
    {
     "name": "stdout",
     "output_type": "stream",
     "text": [
      "ljx\n"
     ]
    }
   ],
   "source": [
    "    stu.name = 'ljx'\n",
    "    print(stu.name)"
   ]
  },
  {
   "cell_type": "markdown",
   "metadata": {},
   "source": [
    "    1. 由于类起到模板的作用，所以在创建实例时就要绑定类必要的属性。\n",
    "    2. 绑定的方式是类自带的__init__方法。"
   ]
  },
  {
   "cell_type": "code",
   "execution_count": 4,
   "metadata": {},
   "outputs": [],
   "source": [
    "class Student(object):\n",
    "    def __init__(self,name,score):\n",
    "        self.name = name\n",
    "        self.score = score"
   ]
  },
  {
   "cell_type": "code",
   "execution_count": 2,
   "metadata": {
    "scrolled": true
   },
   "outputs": [
    {
     "name": "stdout",
     "output_type": "stream",
     "text": [
      "ljx\n"
     ]
    }
   ],
   "source": [
    "    stu.name = 'ljx'\n",
    "    print(stu.name)"
   ]
  },
  {
   "cell_type": "markdown",
   "metadata": {},
   "source": [
    "    1. __init__ 方法的第一个参数self：表示创建实例本身。因此将属性绑定在self上就是绑定在实例本身\n",
    "    2. 有了__init__方法，就不能传空的参数，必须传入与__init__方法匹配的参数，但self不需要传，python解析器自己会自动把变量实例传进去"
   ]
  },
  {
   "cell_type": "code",
   "execution_count": 5,
   "metadata": {},
   "outputs": [
    {
     "name": "stdout",
     "output_type": "stream",
     "text": [
      "devin\n",
      "100\n"
     ]
    }
   ],
   "source": [
    "stu2 = Student(\"devin\",100)\n",
    "print(stu2.name)\n",
    "print(stu2.score)"
   ]
  },
  {
   "cell_type": "markdown",
   "metadata": {},
   "source": [
    "    与普通函数不同，类内部定义的函数第一个参数需要是self,但调用函数是不需要传入self"
   ]
  },
  {
   "cell_type": "markdown",
   "metadata": {},
   "source": [
    "### 数据封装\n",
    "\n",
    "    面向对象编程一个重要特点就是数据封装。\n",
    "    在类的内部定义访问类的属性数据的函数就是类的方法。在类的内部定义访问数据的方法就把数据封装起来了。"
   ]
  },
  {
   "cell_type": "code",
   "execution_count": 11,
   "metadata": {},
   "outputs": [],
   "source": [
    "class Student(object):\n",
    "    def __init__(self,name,score):\n",
    "        self.name = name\n",
    "        self.score = score\n",
    "        \n",
    "    def print_score(self):\n",
    "        print('%s:%s' %( self.name,self.score))"
   ]
  },
  {
   "cell_type": "code",
   "execution_count": 14,
   "metadata": {},
   "outputs": [
    {
     "name": "stdout",
     "output_type": "stream",
     "text": [
      "a:200\n"
     ]
    }
   ],
   "source": [
    "stu3 = Student('a',200)\n",
    "stu3.print_score()"
   ]
  },
  {
   "cell_type": "code",
   "execution_count": null,
   "metadata": {},
   "outputs": [],
   "source": []
  }
 ],
 "metadata": {
  "kernelspec": {
   "display_name": "Python 3",
   "language": "python",
   "name": "python3"
  },
  "language_info": {
   "codemirror_mode": {
    "name": "ipython",
    "version": 3
   },
   "file_extension": ".py",
   "mimetype": "text/x-python",
   "name": "python",
   "nbconvert_exporter": "python",
   "pygments_lexer": "ipython3",
   "version": "3.6.4"
  }
 },
 "nbformat": 4,
 "nbformat_minor": 2
}
